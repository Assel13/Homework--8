{
 "cells": [
  {
   "cell_type": "code",
   "execution_count": 8,
   "id": "97754416-2f58-4873-a266-4a62de8fd94e",
   "metadata": {},
   "outputs": [
    {
     "name": "stdout",
     "output_type": "stream",
     "text": [
      "Минимальное значение x: 2.0370359763344878e-09\n",
      "Минимальное значение функции: 4.1495155688809995e-18\n"
     ]
    }
   ],
   "source": [
    "import numpy as np\n",
    "\n",
    "def f(x):\n",
    "    return x**2\n",
    "\n",
    "def gradient(x):\n",
    "    return 2 * x\n",
    "\n",
    "def gradient_descent(starting_point, learning_rate=0.1, iterations=100):\n",
    "    x = starting_point\n",
    "    history = [x]\n",
    "    for _ in range(iterations):\n",
    "        grad = gradient(x)\n",
    "        x = x - learning_rate * grad\n",
    "        history.append(x)\n",
    "    return x, history\n",
    "\n",
    "starting_point = 10  \n",
    "learning_rate = 0.1\n",
    "iterations = 100\n",
    "\n",
    "min_x, history = gradient_descent(starting_point, learning_rate, iterations)\n",
    "\n",
    "print(f\"Минимальное значение x: {min_x}\")\n",
    "print(f\"Минимальное значение функции: {f(min_x)}\")"
   ]
  },
  {
   "cell_type": "code",
   "execution_count": null,
   "id": "142b88cc-d4d9-429d-834e-ad4f48259dc2",
   "metadata": {},
   "outputs": [],
   "source": []
  }
 ],
 "metadata": {
  "kernelspec": {
   "display_name": "Python 3 (ipykernel)",
   "language": "python",
   "name": "python3"
  },
  "language_info": {
   "codemirror_mode": {
    "name": "ipython",
    "version": 3
   },
   "file_extension": ".py",
   "mimetype": "text/x-python",
   "name": "python",
   "nbconvert_exporter": "python",
   "pygments_lexer": "ipython3",
   "version": "3.12.4"
  }
 },
 "nbformat": 4,
 "nbformat_minor": 5
}
